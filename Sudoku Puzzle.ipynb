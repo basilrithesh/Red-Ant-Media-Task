{
 "cells": [
  {
   "cell_type": "code",
   "execution_count": 1,
   "metadata": {},
   "outputs": [
    {
     "name": "stdout",
     "output_type": "stream",
     "text": [
      "[7, 3, 5, 2, 9, 6, 8, 4, 1]\n",
      "[8, 4, 1, 3, 5, 7, 6, 2, 9]\n",
      "[6, 2, 9, 4, 1, 8, 7, 3, 5]\n",
      "[2, 1, 6, 5, 8, 4, 3, 9, 7]\n",
      "[4, 5, 8, 9, 7, 3, 2, 1, 6]\n",
      "[3, 9, 7, 1, 6, 2, 4, 5, 8]\n",
      "[5, 7, 4, 6, 3, 9, 1, 8, 2]\n",
      "[9, 6, 3, 8, 2, 1, 5, 7, 4]\n",
      "[1, 8, 2, 7, 4, 5, 9, 6, 3]\n",
      "[.  3  .  .  .  .  8  .  .]\n",
      "[.  .  1  .  5  .  6  2  9]\n",
      "[.  .  .  .  .  .  .  .  .]\n",
      "[2  .  6  .  .  .  .  .  .]\n",
      "[.  .  .  9  .  3  .  1  .]\n",
      "[.  .  .  1  6  2  .  .  .]\n",
      "[.  .  4  .  .  .  .  .  2]\n",
      "[.  .  .  .  2  .  5  .  .]\n",
      "[.  .  2  .  .  .  .  .  3]\n"
     ]
    }
   ],
   "source": [
    "# -*- coding: utf-8 -*-\n",
    "\"\"\"\n",
    "Created on Tue Apr 27 20:56:15 2021\n",
    "\n",
    "@author: basil\n",
    "\"\"\"\n",
    "\n",
    "base  = 3\n",
    "side  = base*base\n",
    "\n",
    "# pattern for a baseline valid solution\n",
    "def pattern(r,c): return (base*(r%base)+r//base+c)%side\n",
    "\n",
    "# randomize rows, columns and numbers (of valid base pattern)\n",
    "from random import sample\n",
    "def shuffle(s): return sample(s,len(s)) \n",
    "rBase = range(base) \n",
    "rows  = [ g*base + r for g in shuffle(rBase) for r in shuffle(rBase) ] \n",
    "cols  = [ g*base + c for g in shuffle(rBase) for c in shuffle(rBase) ]\n",
    "nums  = shuffle(range(1,base*base+1))\n",
    "\n",
    "# produce board using randomized baseline pattern\n",
    "board = [ [nums[pattern(r,c)] for c in cols] for r in rows ]\n",
    "\n",
    "for line in board: \n",
    "    print(line)\n",
    "    \n",
    "squares = side*side\n",
    "empties = squares * 3//4\n",
    "for p in sample(range(squares),empties):\n",
    "    board[p//side][p%side] = 0\n",
    "\n",
    "numSize = len(str(side))\n",
    "for line in board: \n",
    "    print(\"[\"+\"  \".join(f\"{n or '.':{numSize}}\" for n in line)+\"]\")"
   ]
  },
  {
   "cell_type": "code",
   "execution_count": null,
   "metadata": {},
   "outputs": [],
   "source": []
  }
 ],
 "metadata": {
  "kernelspec": {
   "display_name": "Python 3",
   "language": "python",
   "name": "python3"
  },
  "language_info": {
   "codemirror_mode": {
    "name": "ipython",
    "version": 3
   },
   "file_extension": ".py",
   "mimetype": "text/x-python",
   "name": "python",
   "nbconvert_exporter": "python",
   "pygments_lexer": "ipython3",
   "version": "3.8.3"
  }
 },
 "nbformat": 4,
 "nbformat_minor": 4
}
